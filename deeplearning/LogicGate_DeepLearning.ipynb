{
 "cells": [
  {
   "cell_type": "code",
   "execution_count": 38,
   "metadata": {},
   "outputs": [],
   "source": [
    "import numpy as np\n",
    "\n",
    "def sigmoid(x):\n",
    "    return 1/(1+np.exp(-x))\n",
    "\n",
    "def numerical_derivate(f, x):\n",
    "    grad = np.zeros_like(x)\n",
    "    it = np.nditer(x, flags=[\"multi_index\"],op_flags=[\"readwrite\"])\n",
    "    delta = 1e-4\n",
    "    \n",
    "    while not it.finished:\n",
    "        idx = it.multi_index\n",
    "        tmp = x[idx]\n",
    "        x[idx] = tmp+delta\n",
    "        fx1 = f(x)\n",
    "        x[idx] = tmp-delta\n",
    "        fx2 = f(x)\n",
    "        x[idx] = tmp\n",
    "        grad[idx] = (fx1-fx2)/(2*delta)\n",
    "        it.iternext()\n",
    "        \n",
    "    return grad\n",
    "\n",
    "class LogicGate:\n",
    "    def __init__(self, gate_name, x, t):\n",
    "        self.gate_name = gate_name\n",
    "        self.__x = x.reshape(4,2)\n",
    "        self.__t = t.reshape(4,1)\n",
    "        print(self.__x)\n",
    "        \n",
    "        self.__W2 = np.random.rand(2,6)\n",
    "        self.__b2 = np.random.rand(6)\n",
    "        \n",
    "        self.__W3 = np.random.rand(6,1)\n",
    "        self.__b3 = np.random.rand(1)\n",
    "        \n",
    "        self.__learning_rate = 1e-2\n",
    "        \n",
    "        print(self.gate_name,\"is created\")\n",
    "        \n",
    "    def feed_forward(self):\n",
    "        delta = 1e-7\n",
    "        \n",
    "        z2 = np.dot(self.__x,self.__W2)+self.__b2\n",
    "        a2 = sigmoid(z2)\n",
    "        \n",
    "        z3 = np.dot(a2,self.__W3)+self.__b3\n",
    "        y = sigmoid(z3)\n",
    "        \n",
    "        return -np.sum(self.__t*np.log(y+delta)+(1-self.__t)*np.log((1-y)+delta))\n",
    "    \n",
    "    def train(self):\n",
    "        f = lambda x : self.feed_forward()\n",
    "        \n",
    "        for i in range(10000):\n",
    "            self.__W2 -=  self.__learning_rate*numerical_derivate(f,self.__W2)\n",
    "            self.__b2 -=  self.__learning_rate*numerical_derivate(f, self.__b2)\n",
    "            self.__W3 -=  self.__learning_rate*numerical_derivate(f, self.__W3)\n",
    "            self.__b3 -=  self.__learning_rate*numerical_derivate(f, self.__b3)\n",
    "            \n",
    "            if i % 500 == 0:\n",
    "                print(i,\"steps : \", self.feed_forward())\n",
    "                \n",
    "    def predict(self, x):\n",
    "        x_data = x.reshape(-1,2)\n",
    "        \n",
    "        z2 = np.dot(x_data,self.__W2)+self.__b2\n",
    "        a2 = sigmoid(z2)\n",
    "        \n",
    "        z3 = np.dot(a2,self.__W3)+self.__b3\n",
    "        y = sigmoid(z3)\n",
    "        \n",
    "        if y > 0.5:\n",
    "            result = 1\n",
    "        else:\n",
    "            result = 0\n",
    "        return y, result\n",
    "        \n",
    "        \n",
    "        \n",
    "        \n",
    "        \n",
    "        \n",
    "    \n",
    "    "
   ]
  },
  {
   "cell_type": "code",
   "execution_count": 42,
   "metadata": {},
   "outputs": [
    {
     "name": "stdout",
     "output_type": "stream",
     "text": [
      "[[0 0]\n",
      " [0 1]\n",
      " [1 0]\n",
      " [1 1]]\n",
      "XOR is created\n",
      "0 steps :  4.565882025601096\n",
      "500 steps :  2.7702127956956595\n",
      "1000 steps :  2.768369318199065\n",
      "1500 steps :  2.7661513304855374\n",
      "2000 steps :  2.763304859926772\n",
      "2500 steps :  2.75947460301235\n",
      "3000 steps :  2.7541400483126255\n",
      "3500 steps :  2.7465252062196615\n",
      "4000 steps :  2.735476223146881\n",
      "4500 steps :  2.719308768508667\n",
      "5000 steps :  2.6956392833109355\n",
      "5500 steps :  2.6612310231582823\n",
      "6000 steps :  2.6119404058592943\n",
      "6500 steps :  2.5430369754320528\n",
      "7000 steps :  2.4504018695572913\n",
      "7500 steps :  2.3324892275659392\n",
      "8000 steps :  2.190893002267499\n",
      "8500 steps :  2.027547031706196\n",
      "9000 steps :  1.8418161754511888\n",
      "9500 steps :  1.6330588562521875\n"
     ]
    }
   ],
   "source": [
    "x_data = np.array([0,0,0,1,1,0,1,1])\n",
    "t_data = np.array([0,1,1,0])\n",
    "\n",
    "XOR = LogicGate(\"XOR\",x_data,t_data)\n",
    "XOR.train()"
   ]
  },
  {
   "cell_type": "code",
   "execution_count": 46,
   "metadata": {},
   "outputs": [
    {
     "data": {
      "text/plain": [
       "(array([[0.69775142]]), 1)"
      ]
     },
     "execution_count": 46,
     "metadata": {},
     "output_type": "execute_result"
    }
   ],
   "source": [
    "XOR.predict(np.array([1,0]))"
   ]
  },
  {
   "cell_type": "code",
   "execution_count": null,
   "metadata": {},
   "outputs": [],
   "source": []
  }
 ],
 "metadata": {
  "kernelspec": {
   "display_name": "Python 3",
   "language": "python",
   "name": "python3"
  },
  "language_info": {
   "codemirror_mode": {
    "name": "ipython",
    "version": 3
   },
   "file_extension": ".py",
   "mimetype": "text/x-python",
   "name": "python",
   "nbconvert_exporter": "python",
   "pygments_lexer": "ipython3",
   "version": "3.6.9"
  }
 },
 "nbformat": 4,
 "nbformat_minor": 2
}
