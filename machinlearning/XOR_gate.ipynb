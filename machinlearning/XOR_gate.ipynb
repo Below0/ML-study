{
 "cells": [
  {
   "cell_type": "code",
   "execution_count": 23,
   "metadata": {},
   "outputs": [],
   "source": [
    "import numpy as np\n",
    "\n",
    "\n",
    "def sigmoid(x):\n",
    "    return 1/(1+np.exp(-x))\n",
    "\n",
    "def numerical_derivate(f,x):\n",
    "    it = np.nditer(x,flags=[\"multi_index\"],op_flags=[\"readwrite\"])\n",
    "    delta_x = 1e-4\n",
    "    grad = np.zeros_like(x)\n",
    "    \n",
    "    while not it.finished:\n",
    "        idx = it.multi_index\n",
    "        tmp = x[idx]\n",
    "        x[idx] = tmp+delta_x\n",
    "        fx1 = f(x)\n",
    "        x[idx] = tmp-delta_x\n",
    "        fx2 = f(x)\n",
    "        grad[idx] = (fx1-fx2)/(2*delta_x)\n",
    "        x[idx] = tmp\n",
    "        it.iternext()\n",
    "    \n",
    "    return grad\n",
    "\n",
    "class LogicGate:\n",
    "    def __init__(self,name,t):\n",
    "        self.name = name\n",
    "        self.t = t\n",
    "        self.learning_rate = 1e-2\n",
    "        self.x = np.array([0,0,0,1,1,0,1,1]).reshape(4,-1)\n",
    "        self.W = np.random.rand(2,1)\n",
    "        self.b = np.random.rand(1)\n",
    "        print(name,\"is created\")\n",
    "        \n",
    "    def loss_func(self):\n",
    "        z = np.dot(self.x,self.W) + self.b\n",
    "        y = sigmoid(z)\n",
    "        delta = 1e-7\n",
    "        \n",
    "        return -np.sum(self.t*np.log(y+delta)+(1-self.t)*np.log((1-y)+delta))\n",
    "        \n",
    "        \n",
    "    def train(self, epochs):\n",
    "        f = lambda x : self.loss_func()\n",
    "        \n",
    "        for i in range(epochs):\n",
    "            self.W -= self.learning_rate * numerical_derivate(f,self.W)\n",
    "            self.b -= self.learning_rate * numerical_derivate(f,self.b)\n",
    "            if i % 400 == 0:\n",
    "                print(i,\"loss_val = \",self.loss_func())\n",
    "                \n",
    "    def predict(self, x):\n",
    "        x = np.array(x).reshape(1,-1)\n",
    "        z = np.dot(x,self.W)+self.b\n",
    "        y = sigmoid(z)\n",
    "        \n",
    "        if y > 0.5:\n",
    "            return 1\n",
    "        else :\n",
    "            return 0\n",
    "        \n",
    "        "
   ]
  },
  {
   "cell_type": "code",
   "execution_count": 29,
   "metadata": {},
   "outputs": [
    {
     "name": "stdout",
     "output_type": "stream",
     "text": [
      "AND is created\n",
      "0 loss_val =  4.144710410606559\n",
      "400 loss_val =  1.6475438913486866\n",
      "800 loss_val =  1.198010111949266\n",
      "1200 loss_val =  0.9528888663145286\n",
      "1600 loss_val =  0.7944977264778446\n",
      "2000 loss_val =  0.6820850941962341\n",
      "2400 loss_val =  0.5975617514613796\n",
      "2800 loss_val =  0.5314721141608015\n",
      "OR is created\n",
      "0 loss_val =  1.7860436149519225\n",
      "400 loss_val =  1.0344206305979933\n",
      "800 loss_val =  0.7616463900418246\n",
      "1200 loss_val =  0.5976629124994456\n",
      "1600 loss_val =  0.4891041560502679\n",
      "2000 loss_val =  0.41238194914877124\n",
      "2400 loss_val =  0.355537799198237\n",
      "2800 loss_val =  0.3118824455352318\n",
      "NAND is created\n",
      "0 loss_val =  2.371643487463898\n",
      "400 loss_val =  1.4839410972076137\n",
      "800 loss_val =  1.1150969364167977\n",
      "1200 loss_val =  0.9014460784660109\n",
      "1600 loss_val =  0.7588626524952613\n",
      "2000 loss_val =  0.6557144295657034\n",
      "2400 loss_val =  0.577174458789906\n",
      "2800 loss_val =  0.515209547061952\n"
     ]
    }
   ],
   "source": [
    "AND = LogicGate(\"AND\",np.array([0,0,0,1]).reshape(4,-1))\n",
    "AND.train(3000)\n",
    "OR = LogicGate(\"OR\",np.array([0,1,1,1]).reshape(4,-1))\n",
    "OR.train(3000)\n",
    "NAND = LogicGate(\"NAND\",np.array([1,1,1,0]).reshape(4,-1))\n",
    "NAND.train(3000)"
   ]
  },
  {
   "cell_type": "code",
   "execution_count": 36,
   "metadata": {},
   "outputs": [],
   "source": [
    "def XOR_predict(x):\n",
    "    s1 = NAND.predict(x)\n",
    "    s2 = OR.predict(x)\n",
    "    \n",
    "    res = AND.predict([s1,s2])\n",
    "    \n",
    "    return res\n",
    "    "
   ]
  },
  {
   "cell_type": "code",
   "execution_count": 41,
   "metadata": {},
   "outputs": [
    {
     "data": {
      "text/plain": [
       "1"
      ]
     },
     "execution_count": 41,
     "metadata": {},
     "output_type": "execute_result"
    }
   ],
   "source": [
    "XOR_predict([1,0])"
   ]
  },
  {
   "cell_type": "code",
   "execution_count": null,
   "metadata": {},
   "outputs": [],
   "source": []
  }
 ],
 "metadata": {
  "kernelspec": {
   "display_name": "Python 3",
   "language": "python",
   "name": "python3"
  },
  "language_info": {
   "codemirror_mode": {
    "name": "ipython",
    "version": 3
   },
   "file_extension": ".py",
   "mimetype": "text/x-python",
   "name": "python",
   "nbconvert_exporter": "python",
   "pygments_lexer": "ipython3",
   "version": "3.6.9"
  }
 },
 "nbformat": 4,
 "nbformat_minor": 2
}
